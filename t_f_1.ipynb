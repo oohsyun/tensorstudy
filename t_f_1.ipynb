{
  "nbformat": 4,
  "nbformat_minor": 0,
  "metadata": {
    "colab": {
      "provenance": [],
      "toc_visible": true,
      "authorship_tag": "ABX9TyNoR8/GXFZ1u3V9k6NO/9xo"
    },
    "kernelspec": {
      "name": "python3",
      "display_name": "Python 3"
    },
    "language_info": {
      "name": "python"
    }
  },
  "cells": [
    {
      "cell_type": "code",
      "execution_count": 1,
      "metadata": {
        "id": "T8LXHicXCl1Y"
      },
      "outputs": [],
      "source": [
        "import tensorflow as tf"
      ]
    },
    {
      "cell_type": "code",
      "source": [
        "mammal = tf.Variable(\"코끼리\", tf.string) #변수이름=tf.Varialbe(\"값\", tf.자료형)\n",
        "ignition = tf.Variable(451, tf.int16)\n",
        "floating = tf.Variable(3.14159265359, tf.float64)\n",
        "its_complicated = tf.Variable(12.3 - 4.85j, tf.complex64)\n",
        "     \n",
        "\n",
        "mystr = tf.Variable([\"나현이는바보\"], tf.string) #리스트형도 가능\n",
        "cool_numbers = tf.Variable([3.14159, 2.71828], tf.float32)\n",
        "first_primes = tf.Variable([2, 3, 5, 7, 11], tf.int32)\n",
        "its_very_complicated = tf.Variable([12.3 - 4.85j, 7.5 - 6.23j], tf.complex64)"
      ],
      "metadata": {
        "id": "DRyIYQw_CxeS"
      },
      "execution_count": 2,
      "outputs": []
    },
    {
      "cell_type": "code",
      "source": [
        "mymat = tf.Variable([[7],[11]], tf.int16)\n",
        "myxor = tf.Variable([[False, True],[True, False]], tf.bool)\n",
        "linear_squares = tf.Variable([[4], [9], [16], [25]], tf.int32)\n",
        "squarish_squares = tf.Variable([ [4, 9], [16, 25] ], tf.int32)\n",
        "rank_of_squares = tf.rank(squarish_squares)\n",
        "mymatc = tf.Variable([[7],[11]], tf.int32)  "
      ],
      "metadata": {
        "id": "Gn9r20mLCyoW"
      },
      "execution_count": 3,
      "outputs": []
    },
    {
      "cell_type": "code",
      "source": [
        "my_image = tf.Variable([10,299,299,3])"
      ],
      "metadata": {
        "id": "JlJ-t1akC0jN"
      },
      "execution_count": null,
      "outputs": []
    },
    {
      "cell_type": "code",
      "source": [],
      "metadata": {
        "id": "aYHpv3U6C4B7"
      },
      "execution_count": null,
      "outputs": []
    },
    {
      "cell_type": "code",
      "source": [
        "r=tf.rank(my_image) #객체 랭크 구하기"
      ],
      "metadata": {
        "id": "VXH8Ka66C5W1"
      },
      "execution_count": null,
      "outputs": []
    },
    {
      "cell_type": "code",
      "source": [
        "my_matrix = tf.Variable([[1,2,3,4],[2,3,4,5],[3,4,5,6],[4,5,6,7]],tf.int16)\n",
        "my_scalar = my_matrix[2] # 0부터 시작하므로 각각의 세 번째 숫자인 3,4,5,6이 출력된다\n",
        "     "
      ],
      "metadata": {
        "id": "ORdvLkGSDBuV"
      },
      "execution_count": null,
      "outputs": []
    },
    {
      "cell_type": "code",
      "source": [
        "my_sclalr = my_matrix[1,2] #행렬을 조회하는 방법! 2번째 행의 3번째 열\n",
        "my_sclalr"
      ],
      "metadata": {
        "id": "wSL6iWUfDEN-"
      },
      "execution_count": null,
      "outputs": []
    },
    {
      "cell_type": "code",
      "source": [
        "my_row_vector = my_matrix[2] #행벡터를 그대로 잡음 3번째 행 조회\n",
        "my_column_vector = my_matrix[:,3] #':'표시는 앞의 부분 전체를 잡는다는 의미"
      ],
      "metadata": {
        "id": "gtUy1j89DGUR"
      },
      "execution_count": null,
      "outputs": []
    },
    {
      "cell_type": "code",
      "source": [
        "#텐서변경 예시:\n",
        "rank_three_tensor = tf.ones([3, 4, 5])\n",
        "matrix = tf.reshape(rank_three_tensor, [6, 10]) # 기존 행렬을 6*10행렬로 변경\n",
        "# 형태 변경\n",
        "matrixB = tf.reshape(matrix,[3, -1]) # 기존 내 용 을 3×20 행 렬 로 형태 변경\n",
        "# -1 은 차원 크 기 를 계 산 하 여\n",
        "# 자 동 으로 결 정 하라는 의미\n",
        "matrixAlt = tf.reshape(matrixB, [4, 3, -1]) # 기존 내용을 4x3x5 텐서로\n",
        "# 형태 변경\n",
        "\n",
        "# 형 태 가 변경된 텐 서 의 원소 개 수 는\n",
        "# 원래 텐 서 의 원소 개 수 와 같습니다.\n",
        "# 그러므로 다 음 은 원소 개 수 를 유 지 하면서\n",
        "# 마지막 차 원 에 사용 가능한 수가 없기 때문에 에 러 를 발 생 합니다.\n",
        "#yet_another = tf.reshape(matrixAlt, [13, 2,-1]) # 에러!"
      ],
      "metadata": {
        "id": "P4XVMFRYDIJI"
      },
      "execution_count": null,
      "outputs": []
    }
  ]
}